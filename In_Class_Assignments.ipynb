{
  "nbformat": 4,
  "nbformat_minor": 0,
  "metadata": {
    "colab": {
      "provenance": [],
      "authorship_tag": "ABX9TyOd9qunkOwVoXNdQXv/s3Yf",
      "include_colab_link": true
    },
    "kernelspec": {
      "name": "python3",
      "display_name": "Python 3"
    },
    "language_info": {
      "name": "python"
    }
  },
  "cells": [
    {
      "cell_type": "markdown",
      "metadata": {
        "id": "view-in-github",
        "colab_type": "text"
      },
      "source": [
        "<a href=\"https://colab.research.google.com/github/cay38-ui/BTE-320-Section-GH/blob/main/In_Class_Assignments.ipynb\" target=\"_parent\"><img src=\"https://colab.research.google.com/assets/colab-badge.svg\" alt=\"Open In Colab\"/></a>"
      ]
    },
    {
      "cell_type": "code",
      "execution_count": 39,
      "metadata": {
        "colab": {
          "base_uri": "https://localhost:8080/"
        },
        "id": "5TmnetUA-kqT",
        "outputId": "e41abaa4-b9b4-4d05-b999-f5a789354dc3"
      },
      "outputs": [
        {
          "output_type": "stream",
          "name": "stdout",
          "text": [
            "Enter Sales ($): 12000\n",
            "Enter Cost of Goods pct (%)40\n",
            "Enter Tax rate (%)30\n",
            "Cost of Goods Solds:$4800.0\n",
            "Gross Profit:$7200.0\n",
            "Tax Expense:$2160.0\n",
            "Net Income:$5040.0\n"
          ]
        }
      ],
      "source": [
        "# Inputs: Sales and cost of goods pct\n",
        "Sales = input('Enter Sales ($): ')\n",
        "Sales = float(Sales)\n",
        "cogs_pct = input(\"Enter Cost of Goods pct (%)\")\n",
        "cogs_pct = float(cogs_pct)\n",
        "Tax_rate = input(\"Enter Tax rate (%)\")\n",
        "Tax_rate = float(Tax_rate)\n",
        "\n",
        "# Processes: Calculate COGS and GP\n",
        "COGS = float(Sales)*(cogs_pct/100)\n",
        "grossProfit = (float(Sales))-(float(COGS))\n",
        "Tax_Expense = float(grossProfit)*(Tax_rate/100)\n",
        "Net_Income = float(grossProfit)-float(Tax_Expense)\n",
        "\n",
        "# Outputs: Print COGS and Gross Profit\n",
        "print(f\"Cost of Goods Solds:${COGS}\")\n",
        "print(f\"Gross Profit:${grossProfit}\")\n",
        "print(f\"Tax Expense:${Tax_Expense}\")\n",
        "print(f\"Net Income:${Net_Income}\")"
      ]
    },
    {
      "cell_type": "markdown",
      "source": [
        "# New Section"
      ],
      "metadata": {
        "id": "hCiAJCguDix6"
      }
    }
  ]
}