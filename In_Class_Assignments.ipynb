{
  "nbformat": 4,
  "nbformat_minor": 0,
  "metadata": {
    "colab": {
      "provenance": [],
      "toc_visible": true,
      "authorship_tag": "ABX9TyPSL6eh32C59X53W0hrrPfC",
      "include_colab_link": true
    },
    "kernelspec": {
      "name": "python3",
      "display_name": "Python 3"
    },
    "language_info": {
      "name": "python"
    }
  },
  "cells": [
    {
      "cell_type": "markdown",
      "metadata": {
        "id": "view-in-github",
        "colab_type": "text"
      },
      "source": [
        "<a href=\"https://colab.research.google.com/github/cay38-ui/BTE-320-Section-GH/blob/main/In_Class_Assignments.ipynb\" target=\"_parent\"><img src=\"https://colab.research.google.com/assets/colab-badge.svg\" alt=\"Open In Colab\"/></a>"
      ]
    },
    {
      "cell_type": "markdown",
      "source": [
        "# In Class Assignment 09/03"
      ],
      "metadata": {
        "id": "ycwJSqMoqzNk"
      }
    },
    {
      "cell_type": "code",
      "execution_count": null,
      "metadata": {
        "colab": {
          "base_uri": "https://localhost:8080/"
        },
        "id": "5TmnetUA-kqT",
        "outputId": "e41abaa4-b9b4-4d05-b999-f5a789354dc3"
      },
      "outputs": [
        {
          "output_type": "stream",
          "name": "stdout",
          "text": [
            "Enter Sales ($): 12000\n",
            "Enter Cost of Goods pct (%)40\n",
            "Enter Tax rate (%)30\n",
            "Cost of Goods Solds:$4800.0\n",
            "Gross Profit:$7200.0\n",
            "Tax Expense:$2160.0\n",
            "Net Income:$5040.0\n"
          ]
        }
      ],
      "source": [
        "# Inputs: Sales and cost of goods pct\n",
        "Sales = input('Enter Sales ($): ')\n",
        "Sales = float(Sales)\n",
        "cogs_pct = input(\"Enter Cost of Goods pct (%)\")\n",
        "cogs_pct = float(cogs_pct)\n",
        "Tax_rate = input(\"Enter Tax rate (%)\")\n",
        "Tax_rate = float(Tax_rate)\n",
        "\n",
        "# Processes: Calculate COGS and GP\n",
        "COGS = float(Sales)*(cogs_pct/100)\n",
        "grossProfit = (float(Sales))-(float(COGS))\n",
        "Tax_Expense = float(grossProfit)*(Tax_rate/100)\n",
        "Net_Income = float(grossProfit)-float(Tax_Expense)\n",
        "\n",
        "# Outputs: Print COGS and Gross Profit\n",
        "print(f\"Cost of Goods Solds:${COGS}\")\n",
        "print(f\"Gross Profit:${grossProfit}\")\n",
        "print(f\"Tax Expense:${Tax_Expense}\")\n",
        "print(f\"Net Income:${Net_Income}\")"
      ]
    },
    {
      "cell_type": "markdown",
      "source": [
        "# In Class Assignment 09/08\n"
      ],
      "metadata": {
        "id": "mG2Z6K4Kr0Ji"
      }
    },
    {
      "cell_type": "code",
      "source": [
        "# Inventory management: Calculating EOQ\n",
        "#Inputs: Annual demand, reorder costs, holding costs\n",
        "Demand = input('Enter Annual Demand (units/year):')\n",
        "Demand = int(Demand)\n",
        "Reorder_Costs = input('Enter Reorder Costs ($/order):')\n",
        "Reorder_Costs = float(Reorder_Costs)\n",
        "Holding_Costs = input('Enter Holding Costs ($/unit/year):')\n",
        "Holding_Costs = float(Holding_Costs)\n",
        "\n",
        "#Processes: Calculate EOQ\n",
        "EOQ = ((2*Demand*Reorder_Costs)*2/Holding_Costs)**0.5\n",
        "EOQ = int(EOQ)\n",
        "\n",
        "#Outputs\n",
        "print(f\"Economic Order Quantity (EOQ):{EOQ}\")"
      ],
      "metadata": {
        "colab": {
          "base_uri": "https://localhost:8080/"
        },
        "id": "0iksImD-r8ry",
        "outputId": "620a89b4-c70f-4c5d-864b-e02bd3b04125"
      },
      "execution_count": null,
      "outputs": [
        {
          "output_type": "stream",
          "name": "stdout",
          "text": [
            "Enter Annual Demand (units/year):100\n",
            "Enter Reorder Costs ($/order):100\n",
            "Enter Holding Costs ($/unit/year):100\n",
            "Economic Order Quantity (EOQ):20\n"
          ]
        }
      ]
    },
    {
      "cell_type": "markdown",
      "source": [
        "# In Class Assignment 09/15\n"
      ],
      "metadata": {
        "id": "j3ndIFtYqA-3"
      }
    },
    {
      "cell_type": "code",
      "source": [
        "# Inputs\n",
        "Number1 = input(\"Enter a number: \")\n",
        "Number1 = float(Number1)\n",
        "Number2 = input(\"Enter another number: \")\n",
        "Number2 = float(Number2)\n",
        "Operator = input(\"Enter an operator (+, -, *, /, //, %, **): \")\n",
        "\n",
        "# Processes\n",
        "if Operator == \"+\":\n",
        "    Res = Number1 + Number2\n",
        "elif Operator == \"-\":\n",
        "    Res = Number1 - Number2\n",
        "elif Operator == \"*\":\n",
        "    Res = Number1 * Number2\n",
        "elif Operator == \"/\":\n",
        "    Res = Number1 / Number2\n",
        "elif Operator == \"//\":\n",
        "    Res = Number1 // Number2\n",
        "elif Operator == \"%\":\n",
        "    Res = Number1 % Number2\n",
        "elif Operator == \"**\":\n",
        "    Res = Number1 ** Number2\n",
        "else:\n",
        "    Res = None\n",
        "    print(\"Invalid Operator\")\n",
        "\n",
        "# Outputs\n",
        "print(f\"Result = {Res}\")"
      ],
      "metadata": {
        "colab": {
          "base_uri": "https://localhost:8080/"
        },
        "id": "OfCjj3IKqS3c",
        "outputId": "07550c30-fe0b-4b6b-a8d7-5b8793963bca"
      },
      "execution_count": null,
      "outputs": [
        {
          "output_type": "stream",
          "name": "stdout",
          "text": [
            "Enter a number: 5\n",
            "Enter another number: 2\n",
            "Enter an operator (+, -, *, /, //, %, **): #\n",
            "Invalid Operator\n",
            "Result = None\n"
          ]
        }
      ]
    },
    {
      "cell_type": "markdown",
      "source": [
        "# In Class Assignment 09/17"
      ],
      "metadata": {
        "id": "dbaO1Zte9ySe"
      }
    },
    {
      "cell_type": "code",
      "source": [
        "# Inputs\n",
        "Hour = float(Hour)\n",
        "\n",
        "# Processes + Outputs\n",
        "for Hour in range(1,9):\n",
        "  Fee = 5+2.5*Hour\n",
        "  if Fee < 10:\n",
        "    Fee = 10.0\n",
        "  elif Fee >20:\n",
        "    Fee = 20.0\n",
        "  print(Hour,Fee)"
      ],
      "metadata": {
        "colab": {
          "base_uri": "https://localhost:8080/"
        },
        "id": "Ljpw5hRwCfgl",
        "outputId": "2a7849f8-b7f9-47b6-b900-a0ffe78f79ea"
      },
      "execution_count": 14,
      "outputs": [
        {
          "output_type": "stream",
          "name": "stdout",
          "text": [
            "1 10.0\n",
            "2 10.0\n",
            "3 12.5\n",
            "4 15.0\n",
            "5 17.5\n",
            "6 20.0\n",
            "7 20.0\n",
            "8 20.0\n"
          ]
        }
      ]
    }
  ]
}